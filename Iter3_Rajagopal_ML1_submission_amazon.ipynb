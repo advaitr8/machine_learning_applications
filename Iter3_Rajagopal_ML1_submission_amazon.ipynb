{
 "cells": [
  {
   "cell_type": "markdown",
   "metadata": {},
   "source": [
    "### Machine Learning Assignment 1 - Iter 3\n",
    "### Advait Rajagopal"
   ]
  },
  {
   "cell_type": "markdown",
   "metadata": {},
   "source": [
    "### Imports and specifications to begin"
   ]
  },
  {
   "cell_type": "code",
   "execution_count": 1,
   "metadata": {
    "collapsed": false
   },
   "outputs": [
    {
     "name": "stderr",
     "output_type": "stream",
     "text": [
      "//anaconda/lib/python3.5/site-packages/sklearn/cross_validation.py:44: DeprecationWarning: This module was deprecated in version 0.18 in favor of the model_selection module into which all the refactored classes and functions are moved. Also note that the interface of the new CV iterators are different from that of this module. This module will be removed in 0.20.\n",
      "  \"This module will be removed in 0.20.\", DeprecationWarning)\n"
     ]
    }
   ],
   "source": [
    "# imports and specifications\n",
    "import numpy as np\n",
    "import pandas as pd\n",
    "import matplotlib.pyplot as plt\n",
    "%matplotlib inline\n",
    "from sklearn.feature_extraction.text import CountVectorizer\n",
    "from sklearn.feature_extraction.text import TfidfTransformer\n",
    "from sklearn.feature_extraction.text import TfidfVectorizer\n",
    "from sklearn.externals import joblib\n",
    "\n",
    "#To validate/cross validate--create training and test data\n",
    "from sklearn.cross_validation import train_test_split"
   ]
  },
  {
   "cell_type": "markdown",
   "metadata": {},
   "source": [
    "### Performance measures "
   ]
  },
  {
   "cell_type": "code",
   "execution_count": 2,
   "metadata": {
    "collapsed": true
   },
   "outputs": [],
   "source": [
    "class BinaryClassificationPerformance():\n",
    "    '''Performance measures to evaluate the fit of a binary classification model'''\n",
    "    \n",
    "    def __init__(self, predictions, labels, desc, probabilities=None):\n",
    "        '''Initialize attributes: predictions-vector of predicted values for Y, labels-vector of labels for Y'''\n",
    "        '''probabilities-optional, probability that Y is equal to True'''\n",
    "        self.probabilities = probabilities\n",
    "        self.performance_df = pd.concat([pd.DataFrame(predictions), pd.DataFrame(labels)], axis=1)\n",
    "        self.performance_df.columns = ['preds', 'labls']\n",
    "        self.desc = desc\n",
    "        self.performance_measures = {}\n",
    "  \n",
    "    def compute_measures(self):\n",
    "        '''Compute performance measures defined by Flach p. 57'''\n",
    "        self.performance_measures['Pos'] = self.performance_df['preds'].sum()\n",
    "        self.performance_measures['Neg'] = self.performance_df.shape[0] - self.performance_df['preds'].sum()\n",
    "        self.performance_measures['TP'] = ((self.performance_df['preds'] == True) & (self.performance_df['labls'] == True)).sum()\n",
    "        self.performance_measures['TN'] = ((self.performance_df['preds'] == False) & (self.performance_df['labls'] == False)).sum()\n",
    "        self.performance_measures['FP'] = ((self.performance_df['preds'] == True) & (self.performance_df['labls'] == False)).sum()\n",
    "        self.performance_measures['FN'] = ((self.performance_df['preds'] == False) & (self.performance_df['labls'] == True)).sum()\n",
    "        self.performance_measures['Accuracy'] = (self.performance_measures['TP'] + self.performance_measures['TN']) / (self.performance_measures['Pos'] + self.performance_measures['Neg'])"
   ]
  },
  {
   "cell_type": "markdown",
   "metadata": {},
   "source": [
    "### Read in the Raw Test Data"
   ]
  },
  {
   "cell_type": "code",
   "execution_count": 3,
   "metadata": {
    "collapsed": false
   },
   "outputs": [
    {
     "name": "stdout",
     "output_type": "stream",
     "text": [
      "(91000, 14)\n"
     ]
    }
   ],
   "source": [
    "amazon = pd.read_csv('raw_data_test.csv')\n",
    "print(amazon.shape)"
   ]
  },
  {
   "cell_type": "code",
   "execution_count": 4,
   "metadata": {
    "collapsed": false
   },
   "outputs": [
    {
     "name": "stdout",
     "output_type": "stream",
     "text": [
      "   Unnamed: 0  Unnamed: 0.1      Id   ProductId          UserId  \\\n",
      "0      400196        411245  411246  B0040WCR6O  A3FFKU2MTCOBM1   \n",
      "1       38020        110761  110762  B003XUJ3RK   AC2SMT7WEOBQM   \n",
      "2      366458        192489  192490  B006GA666U  A39FOS1KTT1T8Z   \n",
      "3       43625        544264  544265  B00125PX8Q  A1XZXAV5OXD08P   \n",
      "4      211610        494698  494699  B000BZZKVS  A15P774MWM8W4R   \n",
      "\n",
      "             ProfileName  HelpfulnessNumerator  HelpfulnessDenominator  Score  \\\n",
      "0  new yorker \"drealyea\"                     0                       0      1   \n",
      "1                   Bill                     0                       0      5   \n",
      "2                 kendon                     0                       0      2   \n",
      "3               Good 4 U                     0                       0      5   \n",
      "4             D. Dutcher                     8                      11      2   \n",
      "\n",
      "         Time                            Summary  \\\n",
      "0  1340323200           Overpriced, disapointing   \n",
      "1  1325289600                     Quick and easy   \n",
      "2  1297641600       Not as smooth as I hoped....   \n",
      "3  1325116800               Great & organic buzz   \n",
      "4  1144627200  Great for a long run or bike ride   \n",
      "\n",
      "                                                Text  helpScore helpful  \n",
      "0  Although the actual contents are worthy of bei...        NaN   False  \n",
      "1  For the record, I am (cut and paste) the same ...        NaN   False  \n",
      "2  This coffee is strong and bold, but very harsh...        NaN   False  \n",
      "3  Steaz energy drinks are great tasting & great ...        NaN   False  \n",
      "4  I started running a couple years ago, and I ra...   0.727273   False  \n",
      "0.0726923076923\n"
     ]
    }
   ],
   "source": [
    "#Taking a look at the data to see what it contains\n",
    "print(amazon.head())\n",
    "print(amazon['helpful'].mean())"
   ]
  },
  {
   "cell_type": "markdown",
   "metadata": {},
   "source": [
    "### Feature extraction on natural language data"
   ]
  },
  {
   "cell_type": "markdown",
   "metadata": {},
   "source": [
    "### Using the Hashing Vectorizer 'pickle' to create the bag of words"
   ]
  },
  {
   "cell_type": "code",
   "execution_count": 5,
   "metadata": {
    "collapsed": false
   },
   "outputs": [
    {
     "name": "stdout",
     "output_type": "stream",
     "text": [
      "(91000, 131072)\n"
     ]
    }
   ],
   "source": [
    "hv = joblib.load('hv.pkl') # pickle\n",
    "X_hv = hv.transform(amazon.Text)\n",
    "print(X_hv.shape)"
   ]
  },
  {
   "cell_type": "markdown",
   "metadata": {},
   "source": [
    "### Using the Transformer 'pickle' to create the Tfidf matrix"
   ]
  },
  {
   "cell_type": "code",
   "execution_count": 6,
   "metadata": {
    "collapsed": false
   },
   "outputs": [
    {
     "name": "stdout",
     "output_type": "stream",
     "text": [
      "<class 'scipy.sparse.csr.csr_matrix'>\n"
     ]
    }
   ],
   "source": [
    "transformer = joblib.load('transformer.pkl')\n",
    "X_tfidf = transformer.transform(X_hv)\n",
    "print(type(X_tfidf))"
   ]
  },
  {
   "cell_type": "markdown",
   "metadata": {},
   "source": [
    "### Create additional quantitative features\n"
   ]
  },
  {
   "cell_type": "code",
   "execution_count": 7,
   "metadata": {
    "collapsed": true
   },
   "outputs": [],
   "source": [
    "# features from Amazon.csv to add to feature set\n",
    "\n",
    "##FEATURE 1 - REVIEW LENGTH\n",
    "#create a new column called review length which shows the length of each review\n",
    "amazon['reviewLen'] = amazon['Text'].str.len()"
   ]
  },
  {
   "cell_type": "code",
   "execution_count": 8,
   "metadata": {
    "collapsed": true
   },
   "outputs": [],
   "source": [
    "##FEATURE 2 - PROFILE NAME\n",
    "#Use profile name\n",
    "prof_name = amazon['ProfileName']\n",
    "\n",
    "#THIS IS THE ACTUAL CODE - Create dataframe with names and frequences attached\n",
    "df_name = pd.DataFrame({'names' : list(prof_name)})\n",
    "df_name['freq'] = df_name.groupby('names')['names'].transform('count')\n",
    "df_name\n",
    "amazon['profile_freq'] = df_name['freq'] "
   ]
  },
  {
   "cell_type": "code",
   "execution_count": 9,
   "metadata": {
    "collapsed": true
   },
   "outputs": [],
   "source": [
    "#FEATURE 3 - PROFILE LENGTH\n",
    "amazon['profileLen'] = amazon['ProfileName'].str.len()\n",
    "\n",
    "#delete NaN's\n",
    "where_are_NaNs_1 = np.isnan(amazon['profileLen'])\n",
    "amazon[where_are_NaNs_1] = 0"
   ]
  },
  {
   "cell_type": "code",
   "execution_count": 10,
   "metadata": {
    "collapsed": false
   },
   "outputs": [
    {
     "name": "stdout",
     "output_type": "stream",
     "text": [
      "<class 'pandas.core.series.Series'>\n"
     ]
    }
   ],
   "source": [
    "#FEATURE 4 - SCORE\n",
    "print(type(amazon['Score']))\n",
    "\n"
   ]
  },
  {
   "cell_type": "code",
   "execution_count": 11,
   "metadata": {
    "collapsed": true
   },
   "outputs": [],
   "source": [
    "#FEATURE 5 - SUMMARY LENGTH\n",
    "amazon['summaryLen'] = amazon['Summary'].str.len()\n",
    "#delete NaN's\n",
    "where_are_NaNs_2 = np.isnan(amazon['summaryLen'])\n",
    "amazon[where_are_NaNs_2] = 0"
   ]
  },
  {
   "cell_type": "code",
   "execution_count": 12,
   "metadata": {
    "collapsed": true
   },
   "outputs": [],
   "source": [
    "#FEATURES 6,7,8,9,10,11,12\n",
    "#6 - Score - Profile frequency interaction\n",
    "amazon['score_count'] = amazon['Score']*df_name['freq']\n",
    "#delete NaN's\n",
    "where_are_NaNs_3 = np.isnan(amazon['score_count'])\n",
    "amazon[where_are_NaNs_3] = 0\n",
    "\n",
    "#7 - Review length - Profile frequency interaction\n",
    "amazon['revLen_count'] = amazon['reviewLen']*df_name['freq']\n",
    "#delete NaN's\n",
    "where_are_NaNs_4 = np.isnan(amazon['revLen_count'])\n",
    "amazon[where_are_NaNs_4] = 0\n",
    "\n",
    "#8 - Score - Review length interaction\n",
    "amazon['score_revLen'] = amazon['Score']*amazon['reviewLen']\n",
    "\n",
    "#9 - Score - Summary length interaction\n",
    "amazon['score_sumLen'] = amazon['Score']*amazon['summaryLen']\n",
    "\n",
    "#10 - Summary length - Profile frequency interaction\n",
    "amazon['sumLen_count'] = amazon['summaryLen']*df_name['freq']\n",
    "#delete NaN's\n",
    "where_are_NaNs_5 = np.isnan(amazon['sumLen_count'])\n",
    "amazon[where_are_NaNs_5] = 0\n",
    "\n",
    "#11 - Time\n",
    "#amazon['Time']\n",
    "\n",
    "#12 - Exclamation points\n",
    "df1 = pd.DataFrame(amazon['Summary'])\n",
    "df1.columns = ['summary']\n",
    "df1['count'] = df1.summary.str.count('!')\n",
    "\n",
    "\n",
    "amazon['exclam'] = df1['count']\n",
    "#delete NaN's\n",
    "where_are_NaNs_6 = np.isnan(amazon['exclam'])\n",
    "amazon[where_are_NaNs_6] = 0"
   ]
  },
  {
   "cell_type": "code",
   "execution_count": 13,
   "metadata": {
    "collapsed": false
   },
   "outputs": [
    {
     "name": "stdout",
     "output_type": "stream",
     "text": [
      "<class 'pandas.core.frame.DataFrame'>\n"
     ]
    }
   ],
   "source": [
    "##Create a Features Matrix (with only the created features)\n",
    "\n",
    "X_features = amazon[[\"reviewLen\", \n",
    "                     \"profile_freq\",\n",
    "                     \"profileLen\",\n",
    "                     \"Score\",\n",
    "                     \"summaryLen\",\n",
    "                     \"score_count\",\n",
    "                     \"revLen_count\",\n",
    "                     \"score_revLen\",\n",
    "                     \"score_sumLen\",\n",
    "                     \"sumLen_count\",\n",
    "                     \"Time\",\n",
    "                     \"exclam\"]]\n",
    "print(type(X_features))"
   ]
  },
  {
   "cell_type": "markdown",
   "metadata": {},
   "source": [
    "### Combine all quantitative features into a single sparse matrix"
   ]
  },
  {
   "cell_type": "code",
   "execution_count": 14,
   "metadata": {
    "collapsed": false
   },
   "outputs": [
    {
     "name": "stdout",
     "output_type": "stream",
     "text": [
      "(91000, 131084)\n"
     ]
    }
   ],
   "source": [
    "#Convert additional features to csr matrix and \"stack\" with tfidf matrix\n",
    "from scipy.sparse import csr_matrix, hstack\n",
    "X_features_csr = csr_matrix(X_features)\n",
    "X_combined = hstack([X_tfidf, X_features_csr])\n",
    "X_matrix = csr_matrix(X_combined) # convert to sparse matrix\n",
    "print(X_matrix.shape)"
   ]
  },
  {
   "cell_type": "markdown",
   "metadata": {},
   "source": [
    "### Use Scaling 'pickle' for feature scaling"
   ]
  },
  {
   "cell_type": "code",
   "execution_count": 15,
   "metadata": {
    "collapsed": false
   },
   "outputs": [
    {
     "name": "stdout",
     "output_type": "stream",
     "text": [
      "(91000, 131084)\n"
     ]
    }
   ],
   "source": [
    "sc = joblib.load('sc.pkl')\n",
    "X = sc.transform(X_matrix)\n",
    "print(X.shape)"
   ]
  },
  {
   "cell_type": "code",
   "execution_count": 16,
   "metadata": {
    "collapsed": false
   },
   "outputs": [
    {
     "name": "stdout",
     "output_type": "stream",
     "text": [
      "<class 'numpy.ndarray'>\n"
     ]
    }
   ],
   "source": [
    "y = amazon['helpful'].values\n",
    "print(type(y))"
   ]
  },
  {
   "cell_type": "markdown",
   "metadata": {},
   "source": [
    "### MODEL FITTING"
   ]
  },
  {
   "cell_type": "markdown",
   "metadata": {},
   "source": [
    "### Multi Layer Perceptron"
   ]
  },
  {
   "cell_type": "code",
   "execution_count": 17,
   "metadata": {
    "collapsed": false
   },
   "outputs": [
    {
     "name": "stdout",
     "output_type": "stream",
     "text": [
      "{'TP': 14, 'Accuracy': 0.92730769230769228, 'FP': 14, 'Neg': 90972, 'TN': 84371, 'Pos': 28, 'FN': 6601}\n"
     ]
    }
   ],
   "source": [
    "\n",
    "\n",
    "#Loading pickle\n",
    "nn = joblib.load('nn.pkl')\n",
    "\n",
    "nn_performance = BinaryClassificationPerformance(nn.predict(X), y, 'nn')\n",
    "nn_performance.compute_measures()\n",
    "print(nn_performance.performance_measures)"
   ]
  },
  {
   "cell_type": "markdown",
   "metadata": {},
   "source": [
    "### ROC plot to view performance \n"
   ]
  },
  {
   "cell_type": "code",
   "execution_count": 18,
   "metadata": {
    "collapsed": false
   },
   "outputs": [
    {
     "data": {
      "image/png": "[encoded data removed]",
      "text/plain": [
       "<matplotlib.figure.Figure at 0x10faa6d68>"
      ]
     },
     "metadata": {},
     "output_type": "display_data"
    }
   ],
   "source": [
    "fits = [nn_performance]\n",
    "\n",
    "for fit in fits:\n",
    "    plt.plot(fit.performance_measures['FP'] / fit.performance_measures['Neg'], \n",
    "             fit.performance_measures['TP'] / fit.performance_measures['Pos'], 'ro')\n",
    "    plt.text(fit.performance_measures['FP'] / fit.performance_measures['Neg'], \n",
    "             fit.performance_measures['TP'] / fit.performance_measures['Pos'], fit.desc)\n",
    "plt.axis([0, 1, 0, 1])\n",
    "plt.title('ROC plot: training set')\n",
    "plt.xlabel('False positive rate')\n",
    "plt.ylabel('True positive rate')\n",
    "plt.show()"
   ]
  }
 ],
 "metadata": {
  "anaconda-cloud": {},
  "kernelspec": {
   "display_name": "Python [default]",
   "language": "python",
   "name": "python3"
  },
  "language_info": {
   "codemirror_mode": {
    "name": "ipython",
    "version": 3
   },
   "file_extension": ".py",
   "mimetype": "text/x-python",
   "name": "python",
   "nbconvert_exporter": "python",
   "pygments_lexer": "ipython3",
   "version": "3.5.2"
  }
 },
 "nbformat": 4,
 "nbformat_minor": 1
}

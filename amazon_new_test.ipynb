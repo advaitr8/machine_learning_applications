{
 "cells": [
  {
   "cell_type": "code",
   "execution_count": 91,
   "metadata": {
    "collapsed": false
   },
   "outputs": [],
   "source": [
    "# imports and specifications\n",
    "import numpy as np\n",
    "import pandas as pd\n",
    "import matplotlib.pyplot as plt\n",
    "%matplotlib inline\n",
    "from sklearn.feature_extraction.text import CountVectorizer\n",
    "from sklearn.feature_extraction.text import TfidfTransformer\n",
    "from sklearn.feature_extraction.text import TfidfVectorizer\n",
    "from sklearn.externals import joblib\n",
    "\n",
    "#To validate/cross validate--create training and test data\n",
    "from sklearn.cross_validation import train_test_split"
   ]
  },
  {
   "cell_type": "code",
   "execution_count": 92,
   "metadata": {
    "collapsed": true
   },
   "outputs": [],
   "source": [
    "class BinaryClassificationPerformance():\n",
    "    '''Performance measures to evaluate the fit of a binary classification model'''\n",
    "    \n",
    "    def __init__(self, predictions, labels, desc, probabilities=None):\n",
    "        '''Initialize attributes: predictions-vector of predicted values for Y, labels-vector of labels for Y'''\n",
    "        '''probabilities-optional, probability that Y is equal to True'''\n",
    "        self.probabilities = probabilities\n",
    "        self.performance_df = pd.concat([pd.DataFrame(predictions), pd.DataFrame(labels)], axis=1)\n",
    "        self.performance_df.columns = ['preds', 'labls']\n",
    "        self.desc = desc\n",
    "        self.performance_measures = {}\n",
    "  \n",
    "    def compute_measures(self):\n",
    "        '''Compute performance measures defined by Flach p. 57'''\n",
    "        self.performance_measures['Pos'] = self.performance_df['preds'].sum()\n",
    "        self.performance_measures['Neg'] = self.performance_df.shape[0] - self.performance_df['preds'].sum()\n",
    "        self.performance_measures['TP'] = ((self.performance_df['preds'] == True) & (self.performance_df['labls'] == True)).sum()\n",
    "        self.performance_measures['TN'] = ((self.performance_df['preds'] == False) & (self.performance_df['labls'] == False)).sum()\n",
    "        self.performance_measures['FP'] = ((self.performance_df['preds'] == True) & (self.performance_df['labls'] == False)).sum()\n",
    "        self.performance_measures['FN'] = ((self.performance_df['preds'] == False) & (self.performance_df['labls'] == True)).sum()\n",
    "        self.performance_measures['Accuracy'] = (self.performance_measures['TP'] + self.performance_measures['TN']) / (self.performance_measures['Pos'] + self.performance_measures['Neg'])"
   ]
  },
  {
   "cell_type": "code",
   "execution_count": 94,
   "metadata": {
    "collapsed": false
   },
   "outputs": [
    {
     "name": "stdout",
     "output_type": "stream",
     "text": [
      "(91000, 14)\n"
     ]
    }
   ],
   "source": [
    "amazon = pd.read_csv('raw_data_test.csv')\n",
    "print(amazon.shape)"
   ]
  },
  {
   "cell_type": "code",
   "execution_count": 82,
   "metadata": {
    "collapsed": false
   },
   "outputs": [
    {
     "data": {
      "text/plain": [
       "6615"
      ]
     },
     "execution_count": 82,
     "metadata": {},
     "output_type": "execute_result"
    }
   ],
   "source": [
    "amazon['helpful'].sum()"
   ]
  },
  {
   "cell_type": "code",
   "execution_count": 96,
   "metadata": {
    "collapsed": true
   },
   "outputs": [],
   "source": [
    "###Prof Hill\n",
    "amazon = amazon[amazon['HelpfulnessDenominator'] > 0]"
   ]
  },
  {
   "cell_type": "code",
   "execution_count": 97,
   "metadata": {
    "collapsed": false
   },
   "outputs": [
    {
     "data": {
      "text/plain": [
       "count    47751.000000\n",
       "mean         4.187452\n",
       "std         10.169420\n",
       "min          1.000000\n",
       "25%          1.000000\n",
       "50%          2.000000\n",
       "75%          4.000000\n",
       "max        544.000000\n",
       "Name: HelpfulnessDenominator, dtype: float64"
      ]
     },
     "execution_count": 97,
     "metadata": {},
     "output_type": "execute_result"
    }
   ],
   "source": [
    "amazon['HelpfulnessDenominator'].describe()"
   ]
  },
  {
   "cell_type": "code",
   "execution_count": 98,
   "metadata": {
    "collapsed": true
   },
   "outputs": [],
   "source": [
    "amazon['new_helpful'] = (amazon.HelpfulnessDenominator > 3) & (amazon.helpScore >= 1)"
   ]
  },
  {
   "cell_type": "code",
   "execution_count": 71,
   "metadata": {
    "collapsed": true
   },
   "outputs": [],
   "source": [
    "#amazon = amazon[amazon['helpScore'] >= 1]\n",
    "#amazon = amazon[amazon['HelpfulnessNumerator'] > 3]"
   ]
  },
  {
   "cell_type": "code",
   "execution_count": 99,
   "metadata": {
    "collapsed": false
   },
   "outputs": [
    {
     "data": {
      "text/plain": [
       "5652"
      ]
     },
     "execution_count": 99,
     "metadata": {},
     "output_type": "execute_result"
    }
   ],
   "source": [
    "amazon['new_helpful'].sum()"
   ]
  },
  {
   "cell_type": "code",
   "execution_count": 74,
   "metadata": {
    "collapsed": false
   },
   "outputs": [
    {
     "name": "stdout",
     "output_type": "stream",
     "text": [
      "(5652, 131072)\n"
     ]
    }
   ],
   "source": [
    "hv = joblib.load('hv.pkl') # pickle\n",
    "X_hv = hv.transform(amazon.Text)\n",
    "print(X_hv.shape)"
   ]
  },
  {
   "cell_type": "code",
   "execution_count": 75,
   "metadata": {
    "collapsed": false
   },
   "outputs": [
    {
     "name": "stdout",
     "output_type": "stream",
     "text": [
      "<class 'scipy.sparse.csr.csr_matrix'>\n"
     ]
    }
   ],
   "source": [
    "transformer = joblib.load('transformer.pkl')\n",
    "X_tfidf = transformer.transform(X_hv)\n",
    "print(type(X_tfidf))"
   ]
  },
  {
   "cell_type": "code",
   "execution_count": 78,
   "metadata": {
    "collapsed": true
   },
   "outputs": [],
   "source": [
    "# features from Amazon.csv to add to feature set\n",
    "\n",
    "##FEATURE 1 - REVIEW LENGTH\n",
    "#create a new column called review length which shows the length of each review\n",
    "amazon['reviewLen'] = amazon['Text'].str.len()\n",
    "\n",
    "##FEATURE 2 - PROFILE NAME\n",
    "#Use profile name\n",
    "prof_name = amazon['ProfileName']\n",
    "\n",
    "#THIS IS THE ACTUAL CODE - Create dataframe with names and frequences attached\n",
    "df_name = pd.DataFrame({'names' : list(prof_name)})\n",
    "df_name['freq'] = df_name.groupby('names')['names'].transform('count')\n",
    "df_name\n",
    "amazon['profile_freq'] = df_name['freq'] \n",
    "\n",
    "#FEATURE 3 - PROFILE LENGTH\n",
    "amazon['profileLen'] = amazon['ProfileName'].str.len()\n",
    "\n",
    "#delete NaN's\n",
    "where_are_NaNs_1 = np.isnan(amazon['profileLen'])\n",
    "amazon[where_are_NaNs_1] = 0\n",
    "\n",
    "#FEATURE 4 - SCORE\n",
    "#print(type(amazon['Score']))\n",
    "\n",
    "#FEATURE 5 - SUMMARY LENGTH\n",
    "amazon['summaryLen'] = amazon['Summary'].str.len()\n",
    "#delete NaN's\n",
    "where_are_NaNs_2 = np.isnan(amazon['summaryLen'])\n",
    "amazon[where_are_NaNs_2] = 0\n",
    "\n",
    "#FEATURES 6,7,8,9,10,11,12\n",
    "#6 - Score - Profile frequency interaction\n",
    "amazon['score_count'] = amazon['Score']*amazon['profile_freq']\n",
    "#delete NaN's\n",
    "where_are_NaNs_3 = np.isnan(amazon['score_count'])\n",
    "amazon['score_count'][where_are_NaNs_3] = 0\n",
    "\n",
    "# #7 - Review length - Profile frequency interaction\n",
    "# amazon['revLen_count'] = amazon['reviewLen']*df_name['freq']\n",
    "# #delete NaN's\n",
    "# where_are_NaNs_4 = np.isnan(amazon['revLen_count'])\n",
    "# amazon[where_are_NaNs_4] = 0\n",
    "\n",
    "# #8 - Score - Review length interaction\n",
    "# amazon['score_revLen'] = amazon['Score']*amazon['reviewLen']\n",
    "\n",
    "# #9 - Score - Summary length interaction\n",
    "# amazon['score_sumLen'] = amazon['Score']*amazon['summaryLen']\n",
    "\n",
    "# #10 - Summary length - Profile frequency interaction\n",
    "# amazon['sumLen_count'] = amazon['summaryLen']*df_name['freq']\n",
    "# #delete NaN's\n",
    "# where_are_NaNs_5 = np.isnan(amazon['sumLen_count'])\n",
    "# amazon[where_are_NaNs_5] = 0\n",
    "\n",
    "# #11 - Time\n",
    "# #amazon['Time']\n",
    "\n",
    "# #12 - Exclamation points\n",
    "# df1 = pd.DataFrame(amazon['Summary'])\n",
    "# df1.columns = ['summary']\n",
    "# df1['count'] = df1.summary.str.count('!')\n",
    "\n",
    "\n",
    "# amazon['exclam'] = df1['count']\n",
    "# #delete NaN's\n",
    "# where_are_NaNs_6 = np.isnan(amazon['exclam'])\n",
    "# amazon[where_are_NaNs_6] = 0"
   ]
  },
  {
   "cell_type": "code",
   "execution_count": 31,
   "metadata": {
    "collapsed": true
   },
   "outputs": [],
   "source": [
    "# ##This is a function that counts the number of uppercase letters in a string\n",
    "# def cap_count(s):\n",
    "#     d = 0\n",
    "#     for c in s:\n",
    "#         if c.isupper():\n",
    "#            d+=1  \n",
    "#         else:\n",
    "#            pass\n",
    "#     #z = d[\"uppercase\"]\n",
    "#     return d\n",
    "            \n",
    "# #Here we create a new column that is the number of uppercase in all the summaries\n",
    "# df2 = pd.DataFrame(amazon['Summary'])\n",
    "# df2['new'] = df2['Summary'][(df2.Summary != 0)].apply(lambda s : cap_count(s))\n",
    "# #df2['new'] = df2['Summary'][(df2.Summary != 0)].apply(cap_count)\n",
    "# amazon['capscount'] = df2['new']\n",
    "# #delete NaN's\n",
    "# where_are_NaNs_7 = np.isnan(amazon['capscount'])\n",
    "# amazon[where_are_NaNs_7] = 0"
   ]
  },
  {
   "cell_type": "code",
   "execution_count": 79,
   "metadata": {
    "collapsed": false
   },
   "outputs": [
    {
     "data": {
      "text/plain": [
       "310"
      ]
     },
     "execution_count": 79,
     "metadata": {},
     "output_type": "execute_result"
    }
   ],
   "source": [
    "amazon['helpful'].sum()"
   ]
  },
  {
   "cell_type": "code",
   "execution_count": 10,
   "metadata": {
    "collapsed": false
   },
   "outputs": [
    {
     "name": "stdout",
     "output_type": "stream",
     "text": [
      "<class 'pandas.core.frame.DataFrame'>\n"
     ]
    }
   ],
   "source": [
    "##Create a Features Matrix (with only the created features)\n",
    "\n",
    "X_features = amazon[[\"reviewLen\", \n",
    "                     \"profile_freq\",\n",
    "                     \"profileLen\",\n",
    "                     \"Score\",\n",
    "                     \"summaryLen\",\n",
    "                     \"score_count\",\n",
    "                     \"revLen_count\",\n",
    "                     \"score_revLen\",\n",
    "                     \"score_sumLen\",\n",
    "                     \"sumLen_count\",\n",
    "                     \"Time\",\n",
    "                     \"exclam\",\n",
    "                     \"Id\",\n",
    "                     \"capscount\"]]\n",
    "print(type(X_features))"
   ]
  },
  {
   "cell_type": "code",
   "execution_count": 11,
   "metadata": {
    "collapsed": false
   },
   "outputs": [
    {
     "name": "stdout",
     "output_type": "stream",
     "text": [
      "(5652, 131086)\n"
     ]
    }
   ],
   "source": [
    "#Convert additional features to csr matrix and \"stack\" with tfidf matrix\n",
    "from scipy.sparse import csr_matrix, hstack\n",
    "X_features_csr = csr_matrix(X_features)\n",
    "X_combined = hstack([X_tfidf, X_features_csr])\n",
    "X_matrix = csr_matrix(X_combined) # convert to sparse matrix\n",
    "print(X_matrix.shape)"
   ]
  },
  {
   "cell_type": "code",
   "execution_count": 12,
   "metadata": {
    "collapsed": false
   },
   "outputs": [
    {
     "name": "stdout",
     "output_type": "stream",
     "text": [
      "(5652, 131086)\n"
     ]
    }
   ],
   "source": [
    "sc = joblib.load('sc.pkl')\n",
    "X = sc.transform(X_matrix)\n",
    "print(X.shape)"
   ]
  },
  {
   "cell_type": "code",
   "execution_count": 18,
   "metadata": {
    "collapsed": false
   },
   "outputs": [
    {
     "name": "stdout",
     "output_type": "stream",
     "text": [
      "<class 'numpy.ndarray'>\n"
     ]
    },
    {
     "data": {
      "text/plain": [
       "310"
      ]
     },
     "execution_count": 18,
     "metadata": {},
     "output_type": "execute_result"
    }
   ],
   "source": [
    "y = amazon['helpful'].values\n",
    "print(type(y))\n",
    "y.sum()"
   ]
  },
  {
   "cell_type": "code",
   "execution_count": 13,
   "metadata": {
    "collapsed": false
   },
   "outputs": [
    {
     "name": "stdout",
     "output_type": "stream",
     "text": [
      "{'Pos': 323, 'FN': 17, 'FP': 30, 'TN': 5312, 'Accuracy': 0.99168435951875444, 'Neg': 5329, 'TP': 293}\n"
     ]
    }
   ],
   "source": [
    "# # MODEL: SVM, linear\n",
    "#Loading pickle\n",
    "svm = joblib.load('svm.pkl') # pickle\n",
    "svm_performance = BinaryClassificationPerformance(svm.predict(X), y, 'svm')\n",
    "svm_performance.compute_measures()\n",
    "print(svm_performance.performance_measures)"
   ]
  },
  {
   "cell_type": "code",
   "execution_count": 14,
   "metadata": {
    "collapsed": false
   },
   "outputs": [
    {
     "name": "stdout",
     "output_type": "stream",
     "text": [
      "{'Pos': 327, 'FN': 3, 'FP': 20, 'TN': 5322, 'Accuracy': 0.99593064401981601, 'Neg': 5325, 'TP': 307}\n"
     ]
    }
   ],
   "source": [
    "# MODEL: logistic regression\n",
    "#Loading pickle\n",
    "lgs = joblib.load('lgs.pkl')\n",
    "lgs_performance = BinaryClassificationPerformance(lgs.predict(X), y, 'lgs')\n",
    "lgs_performance.compute_measures()\n",
    "print(lgs_performance.performance_measures)"
   ]
  },
  {
   "cell_type": "code",
   "execution_count": 15,
   "metadata": {
    "collapsed": false
   },
   "outputs": [
    {
     "name": "stdout",
     "output_type": "stream",
     "text": [
      "{'Pos': 648, 'FN': 145, 'FP': 483, 'TN': 4859, 'Accuracy': 0.88888888888888884, 'Neg': 5004, 'TP': 165}\n"
     ]
    }
   ],
   "source": [
    "# MODEL: Naive Bayes\n",
    "#Loading pickle\n",
    "nbs = joblib.load('nbs.pkl')\n",
    "nbs_performance = BinaryClassificationPerformance(nbs.predict(X), y, 'nbs')\n",
    "nbs_performancee.compute_measures()\n",
    "print(nbs_performance.performance_measures)"
   ]
  },
  {
   "cell_type": "code",
   "execution_count": 16,
   "metadata": {
    "collapsed": false
   },
   "outputs": [
    {
     "name": "stdout",
     "output_type": "stream",
     "text": [
      "{'Pos': 312, 'FN': 1, 'FP': 3, 'TN': 5339, 'Accuracy': 0.99929228591648978, 'Neg': 5340, 'TP': 309}\n"
     ]
    }
   ],
   "source": [
    "# MODEL: Ridge Regression Classifier\n",
    "#Loading pickle\n",
    "rdg = joblib.load('rdg.pkl')\n",
    "rdg_performance = BinaryClassificationPerformance(rdg.predict(X), y, 'rdg')\n",
    "rdg_performance.compute_measures()\n",
    "print(rdg_performance.performance_measures)"
   ]
  },
  {
   "cell_type": "code",
   "execution_count": 17,
   "metadata": {
    "collapsed": false
   },
   "outputs": [
    {
     "name": "stdout",
     "output_type": "stream",
     "text": [
      "{'Pos': 334, 'FN': 10, 'FP': 34, 'TN': 5308, 'Accuracy': 0.99221514508138708, 'Neg': 5318, 'TP': 300}\n"
     ]
    }
   ],
   "source": [
    "# MODEL: Perceptron\n",
    "#Loading pickle\n",
    "prc = joblib.load('prc.pkl')\n",
    "\n",
    "prc_performance = BinaryClassificationPerformance(prc.predict(X), y, 'prc')\n",
    "prc_performance.compute_measures()\n",
    "print(prc_performance.performance_measures)"
   ]
  },
  {
   "cell_type": "code",
   "execution_count": 18,
   "metadata": {
    "collapsed": false
   },
   "outputs": [
    {
     "data": {
      "image/png": "[encoded data removed]",
      "text/plain": [
       "<matplotlib.figure.Figure at 0x112e1f128>"
      ]
     },
     "metadata": {},
     "output_type": "display_data"
    }
   ],
   "source": [
    "fits = [svm_performance, lgs_performance, nbs_performance, rdg_performance, prc_performance]\n",
    "\n",
    "for fit in fits:\n",
    "    plt.plot(fit.performance_measures['FP'] / fit.performance_measures['Neg'], \n",
    "             fit.performance_measures['TP'] / fit.performance_measures['Pos'], 'ro')\n",
    "    plt.text(fit.performance_measures['FP'] / fit.performance_measures['Neg'], \n",
    "             fit.performance_measures['TP'] / fit.performance_measures['Pos'], fit.desc)\n",
    "plt.axis([0, 1, 0, 1])\n",
    "plt.title('ROC plot: training set')\n",
    "plt.xlabel('False positive rate')\n",
    "plt.ylabel('True positive rate')\n",
    "plt.show()"
   ]
  },
  {
   "cell_type": "markdown",
   "metadata": {
    "collapsed": true
   },
   "source": []
  }
 ],
 "metadata": {
  "anaconda-cloud": {},
  "kernelspec": {
   "display_name": "Python [default]",
   "language": "python",
   "name": "python3"
  },
  "language_info": {
   "codemirror_mode": {
    "name": "ipython",
    "version": 3
   },
   "file_extension": ".py",
   "mimetype": "text/x-python",
   "name": "python",
   "nbconvert_exporter": "python",
   "pygments_lexer": "ipython3",
   "version": "3.5.2"
  }
 },
 "nbformat": 4,
 "nbformat_minor": 1
}

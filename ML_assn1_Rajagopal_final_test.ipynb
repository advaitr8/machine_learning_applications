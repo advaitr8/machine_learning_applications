{
 "cells": [
  {
   "cell_type": "markdown",
   "metadata": {},
   "source": [
    "### Final Draft of ML assignment 1\n",
    "Advait Rajagopal\n",
    "N00552598\n",
    "PhD Economics"
   ]
  },
  {
   "cell_type": "markdown",
   "metadata": {},
   "source": [
    "### 1. Import specifications and packages"
   ]
  },
  {
   "cell_type": "code",
   "execution_count": 1,
   "metadata": {
    "collapsed": false
   },
   "outputs": [
    {
     "name": "stderr",
     "output_type": "stream",
     "text": [
      "//anaconda/lib/python3.5/site-packages/sklearn/cross_validation.py:44: DeprecationWarning: This module was deprecated in version 0.18 in favor of the model_selection module into which all the refactored classes and functions are moved. Also note that the interface of the new CV iterators are different from that of this module. This module will be removed in 0.20.\n",
      "  \"This module will be removed in 0.20.\", DeprecationWarning)\n"
     ]
    }
   ],
   "source": [
    "# imports and specifications\n",
    "import numpy as np\n",
    "import pandas as pd\n",
    "import matplotlib.pyplot as plt\n",
    "%matplotlib inline\n",
    "from sklearn.feature_extraction.text import CountVectorizer\n",
    "from sklearn.feature_extraction.text import TfidfTransformer\n",
    "from sklearn.feature_extraction.text import TfidfVectorizer\n",
    "from sklearn.externals import joblib\n",
    "\n",
    "#To validate/cross validate--create training and test data\n",
    "from sklearn.cross_validation import train_test_split"
   ]
  },
  {
   "cell_type": "markdown",
   "metadata": {},
   "source": [
    "### 2. Performance Measures to evaluate predictive ability"
   ]
  },
  {
   "cell_type": "code",
   "execution_count": 2,
   "metadata": {
    "collapsed": true
   },
   "outputs": [],
   "source": [
    "class BinaryClassificationPerformance():\n",
    "    '''Performance measures to evaluate the fit of a binary classification model'''\n",
    "    \n",
    "    def __init__(self, predictions, labels, desc, probabilities=None):\n",
    "        '''Initialize attributes: predictions-vector of predicted values for Y, labels-vector of labels for Y'''\n",
    "        '''probabilities-optional, probability that Y is equal to True'''\n",
    "        self.probabilities = probabilities\n",
    "        self.performance_df = pd.concat([pd.DataFrame(predictions), pd.DataFrame(labels)], axis=1)\n",
    "        self.performance_df.columns = ['preds', 'labls']\n",
    "        self.desc = desc\n",
    "        self.performance_measures = {}\n",
    "  \n",
    "    def compute_measures(self):\n",
    "        '''Compute performance measures defined by Flach p. 57'''\n",
    "        self.performance_measures['Pos'] = self.performance_df['preds'].sum()\n",
    "        self.performance_measures['Neg'] = self.performance_df.shape[0] - self.performance_df['preds'].sum()\n",
    "        self.performance_measures['TP'] = ((self.performance_df['preds'] == True) & (self.performance_df['labls'] == True)).sum()\n",
    "        self.performance_measures['TN'] = ((self.performance_df['preds'] == False) & (self.performance_df['labls'] == False)).sum()\n",
    "        self.performance_measures['FP'] = ((self.performance_df['preds'] == True) & (self.performance_df['labls'] == False)).sum()\n",
    "        self.performance_measures['FN'] = ((self.performance_df['preds'] == False) & (self.performance_df['labls'] == True)).sum()\n",
    "        self.performance_measures['Accuracy'] = (self.performance_measures['TP'] + self.performance_measures['TN']) / (self.performance_measures['Pos'] + self.performance_measures['Neg'])"
   ]
  },
  {
   "cell_type": "markdown",
   "metadata": {},
   "source": [
    "### 3. Read in the TEST data set"
   ]
  },
  {
   "cell_type": "code",
   "execution_count": 3,
   "metadata": {
    "collapsed": false
   },
   "outputs": [
    {
     "name": "stdout",
     "output_type": "stream",
     "text": [
      "(91000, 14)\n"
     ]
    }
   ],
   "source": [
    "amazon = pd.read_csv('raw_data_test.csv')\n",
    "print(amazon.shape)"
   ]
  },
  {
   "cell_type": "markdown",
   "metadata": {},
   "source": [
    "### 4. Redifining 'Helpful'\n",
    "Here I redefine helpful as at least 3 people had to have found it helpful "
   ]
  },
  {
   "cell_type": "code",
   "execution_count": 4,
   "metadata": {
    "collapsed": false
   },
   "outputs": [
    {
     "name": "stdout",
     "output_type": "stream",
     "text": [
      "(19713, 15)\n",
      "5652\n"
     ]
    }
   ],
   "source": [
    "### Only where atleast 3 people have commented\n",
    "\n",
    "amazon = amazon[amazon['HelpfulnessDenominator'] > 2]\n",
    "\n",
    "### Creating new helpful (redefining helpful)\n",
    "\n",
    "amazon['new_helpful'] = (amazon.HelpfulnessNumerator > 3) & (amazon.helpScore >= 1)\n",
    "\n",
    "###What is the shape now?\n",
    "\n",
    "print(amazon.shape)\n",
    "\n",
    "### How many are helpful now\n",
    "\n",
    "print(amazon['new_helpful'].sum())"
   ]
  },
  {
   "cell_type": "markdown",
   "metadata": {},
   "source": [
    "### 5. Load hashing vectorizer pickle"
   ]
  },
  {
   "cell_type": "code",
   "execution_count": 5,
   "metadata": {
    "collapsed": false
   },
   "outputs": [
    {
     "name": "stdout",
     "output_type": "stream",
     "text": [
      "(19713, 131072)\n"
     ]
    }
   ],
   "source": [
    "# from sklearn.feature_extraction.text import HashingVectorizer\n",
    "# hv = HashingVectorizer(n_features=2 ** 17, non_negative=True)\n",
    "# X_hv = hv.fit_transform(amazon.Text)\n",
    "# print(X_hv.shape)\n",
    "# joblib.dump(hv, 'hv.pkl') # pickle\n",
    "\n",
    "hv = joblib.load('hv.pkl') # pickle\n",
    "X_hv = hv.transform(amazon.Text)\n",
    "print(X_hv.shape)"
   ]
  },
  {
   "cell_type": "markdown",
   "metadata": {},
   "source": [
    "### 6. Load sparse matrix transform pickle"
   ]
  },
  {
   "cell_type": "code",
   "execution_count": 6,
   "metadata": {
    "collapsed": false
   },
   "outputs": [
    {
     "name": "stdout",
     "output_type": "stream",
     "text": [
      "<class 'scipy.sparse.csr.csr_matrix'>\n"
     ]
    }
   ],
   "source": [
    "# from sklearn.feature_extraction.text import TfidfTransformer\n",
    "# transformer = TfidfTransformer()\n",
    "# X_tfidf = transformer.fit_transform(X_hv)\n",
    "# joblib.dump(transformer, 'transformer.pkl') # pickle\n",
    "\n",
    "transformer = joblib.load('transformer.pkl')\n",
    "X_tfidf = transformer.transform(X_hv)\n",
    "print(type(X_tfidf))"
   ]
  },
  {
   "cell_type": "markdown",
   "metadata": {},
   "source": [
    "### 7. Create features other than words"
   ]
  },
  {
   "cell_type": "code",
   "execution_count": 7,
   "metadata": {
    "collapsed": false
   },
   "outputs": [
    {
     "name": "stderr",
     "output_type": "stream",
     "text": [
      "//anaconda/lib/python3.5/site-packages/ipykernel/__main__.py:5: SettingWithCopyWarning: \n",
      "A value is trying to be set on a copy of a slice from a DataFrame\n",
      "\n",
      "See the caveats in the documentation: http://pandas.pydata.org/pandas-docs/stable/indexing.html#indexing-view-versus-copy\n"
     ]
    },
    {
     "data": {
      "text/plain": [
       "count    19713.000000\n",
       "mean       564.737838\n",
       "std        602.323115\n",
       "min         33.000000\n",
       "25%        221.000000\n",
       "50%        390.000000\n",
       "75%        679.000000\n",
       "max       9296.000000\n",
       "Name: reviewLen, dtype: float64"
      ]
     },
     "execution_count": 7,
     "metadata": {},
     "output_type": "execute_result"
    }
   ],
   "source": [
    "##FEATURE 1 - REVIEW LENGTH\n",
    "#create a new column called review length which shows the length of each review\n",
    "amazon['reviewLen'] = amazon['Text'].str.len()\n",
    "###NOW set all NaN's to 0\n",
    "amazon.loc[:,'reviewLen'][(np.isnan(amazon['reviewLen']))] = 0\n",
    "amazon.loc[:'reviewLen'][(np.isnan(amazon['reviewLen']))] = 0\n",
    "amazon['reviewLen'].describe()"
   ]
  },
  {
   "cell_type": "code",
   "execution_count": 8,
   "metadata": {
    "collapsed": false
   },
   "outputs": [
    {
     "name": "stderr",
     "output_type": "stream",
     "text": [
      "//anaconda/lib/python3.5/site-packages/ipykernel/__main__.py:10: SettingWithCopyWarning: \n",
      "A value is trying to be set on a copy of a slice from a DataFrame\n",
      "\n",
      "See the caveats in the documentation: http://pandas.pydata.org/pandas-docs/stable/indexing.html#indexing-view-versus-copy\n"
     ]
    },
    {
     "data": {
      "text/plain": [
       "count    19713.000000\n",
       "mean         2.029270\n",
       "std          2.610466\n",
       "min          1.000000\n",
       "25%          1.000000\n",
       "50%          1.000000\n",
       "75%          2.000000\n",
       "max         30.000000\n",
       "Name: profile_freq, dtype: float64"
      ]
     },
     "execution_count": 8,
     "metadata": {},
     "output_type": "execute_result"
    }
   ],
   "source": [
    "##FEATURE 2 - PROFILE FREQUENCY\n",
    "#Use profile name\n",
    "prof_name = amazon['ProfileName']\n",
    "#How many times does an individual user comment\n",
    "# df_name = pd.DataFrame({'names' : list(prof_name)})\n",
    "# df_name['freq'] = df_name.groupby('names')['names'].transform('count')\n",
    "# df_name\n",
    "amazon['profile_freq'] = amazon.groupby('ProfileName')['ProfileName'].transform('count')\n",
    "###NOW set all NaN's to 0\n",
    "amazon.loc[:,'profile_freq'][(np.isnan(amazon['profile_freq']))] = 0\n",
    "amazon.loc[:'profile_freq'][(np.isnan(amazon['profile_freq']))] = 0\n",
    "amazon['profile_freq'].describe()"
   ]
  },
  {
   "cell_type": "code",
   "execution_count": 9,
   "metadata": {
    "collapsed": false
   },
   "outputs": [
    {
     "name": "stderr",
     "output_type": "stream",
     "text": [
      "//anaconda/lib/python3.5/site-packages/ipykernel/__main__.py:5: SettingWithCopyWarning: \n",
      "A value is trying to be set on a copy of a slice from a DataFrame\n",
      "\n",
      "See the caveats in the documentation: http://pandas.pydata.org/pandas-docs/stable/indexing.html#indexing-view-versus-copy\n"
     ]
    },
    {
     "data": {
      "text/plain": [
       "count    19713.000000\n",
       "mean        25.292294\n",
       "std         14.779988\n",
       "min          0.000000\n",
       "25%         14.000000\n",
       "50%         22.000000\n",
       "75%         33.000000\n",
       "max        127.000000\n",
       "Name: summaryLen, dtype: float64"
      ]
     },
     "execution_count": 9,
     "metadata": {},
     "output_type": "execute_result"
    }
   ],
   "source": [
    "#FEATURE 3 - SUMMARY Length\n",
    "amazon['summaryLen'] = amazon['Summary'].str.len()\n",
    "###NOW set all NaN's to 0\n",
    "where_are_NaNs = np.isnan(amazon['summaryLen'])\n",
    "amazon.loc[:,'summaryLen'][where_are_NaNs] = 0\n",
    "amazon.loc[:'summaryLen'][where_are_NaNs] = 0\n",
    "amazon['summaryLen'].describe()"
   ]
  },
  {
   "cell_type": "code",
   "execution_count": 10,
   "metadata": {
    "collapsed": false
   },
   "outputs": [
    {
     "name": "stderr",
     "output_type": "stream",
     "text": [
      "//anaconda/lib/python3.5/site-packages/ipykernel/__main__.py:5: SettingWithCopyWarning: \n",
      "A value is trying to be set on a copy of a slice from a DataFrame\n",
      "\n",
      "See the caveats in the documentation: http://pandas.pydata.org/pandas-docs/stable/indexing.html#indexing-view-versus-copy\n"
     ]
    },
    {
     "data": {
      "text/plain": [
       "count    19713.000000\n",
       "mean        14.614772\n",
       "std          9.157727\n",
       "min          0.000000\n",
       "25%          8.000000\n",
       "50%         12.000000\n",
       "75%         19.000000\n",
       "max         49.000000\n",
       "Name: profileLen, dtype: float64"
      ]
     },
     "execution_count": 10,
     "metadata": {},
     "output_type": "execute_result"
    }
   ],
   "source": [
    "#FEATURE 4 - PROFILE LENGTH\n",
    "amazon['profileLen'] = amazon['ProfileName'].str.len()\n",
    "###NOW set all NaN's to 0\n",
    "where_are_NaNs = np.isnan(amazon['profileLen'])\n",
    "amazon.loc[:,'profileLen'][where_are_NaNs] = 0\n",
    "amazon.loc[:'profileLen'][where_are_NaNs] = 0\n",
    "amazon['profileLen'].describe()"
   ]
  },
  {
   "cell_type": "code",
   "execution_count": 11,
   "metadata": {
    "collapsed": true
   },
   "outputs": [],
   "source": [
    "#FEATURE 5 - SCORE\n",
    "#print(type(amazon['Score']))\n",
    "#amazon.loc[:'Score'][(np.isnan(amazon['Score']))] = 0"
   ]
  },
  {
   "cell_type": "code",
   "execution_count": 12,
   "metadata": {
    "collapsed": true
   },
   "outputs": [],
   "source": [
    "#FEATURE 6 - TIME\n",
    "#print(type(amazon['Time']))\n",
    "#amazon.loc[:'Time'][(np.isnan(amazon['Time']))] = 0"
   ]
  },
  {
   "cell_type": "code",
   "execution_count": 13,
   "metadata": {
    "collapsed": true
   },
   "outputs": [],
   "source": [
    "#FEATURE 7 - Id\n",
    "#print(type(amazon['Id']))\n",
    "#amazon.loc[:'Id'][(np.isnan(amazon['Id']))] = 0"
   ]
  },
  {
   "cell_type": "code",
   "execution_count": 14,
   "metadata": {
    "collapsed": false
   },
   "outputs": [
    {
     "name": "stderr",
     "output_type": "stream",
     "text": [
      "//anaconda/lib/python3.5/site-packages/ipykernel/__main__.py:7: SettingWithCopyWarning: \n",
      "A value is trying to be set on a copy of a slice from a DataFrame\n",
      "\n",
      "See the caveats in the documentation: http://pandas.pydata.org/pandas-docs/stable/indexing.html#indexing-view-versus-copy\n"
     ]
    },
    {
     "data": {
      "text/plain": [
       "count    19713.000000\n",
       "mean         0.345204\n",
       "std          0.930681\n",
       "min          0.000000\n",
       "25%          0.000000\n",
       "50%          0.000000\n",
       "75%          0.000000\n",
       "max         34.000000\n",
       "Name: exclam, dtype: float64"
      ]
     },
     "execution_count": 14,
     "metadata": {},
     "output_type": "execute_result"
    }
   ],
   "source": [
    "#FEATURE 8 - Exclamation points\n",
    "df1 = pd.DataFrame(amazon['Summary'])\n",
    "df1.columns = ['summary']\n",
    "df1['count'] = df1.summary.str.count('!')\n",
    "amazon['exclam'] = df1['count']\n",
    "###NOW set all NaN's to 0\n",
    "amazon.loc[:,'exclam'][(np.isnan(amazon['exclam']))] = 0\n",
    "amazon.loc[:'exclam'][(np.isnan(amazon['exclam']))] = 0\n",
    "amazon['exclam'].describe()"
   ]
  },
  {
   "cell_type": "code",
   "execution_count": 15,
   "metadata": {
    "collapsed": true
   },
   "outputs": [],
   "source": [
    "##This is a function that counts the number of uppercase letters in a string\n",
    "def cap_count(s):\n",
    "    d = 0\n",
    "    for c in s:\n",
    "        if c.isupper():\n",
    "           d+=1  \n",
    "        else:\n",
    "           pass\n",
    "    #z = d[\"uppercase\"]\n",
    "    return d"
   ]
  },
  {
   "cell_type": "code",
   "execution_count": 16,
   "metadata": {
    "collapsed": false
   },
   "outputs": [],
   "source": [
    "#FEATURE 9 - Count uppercase letters in the SUMMARY\n",
    "#Here we create a new column that is the number of uppercase in all the summaries\n",
    "\n",
    "# df2 = pd.DataFrame(amazon['Summary'])\n",
    "# df2['new'] = df2['Summary'][np.isnan(amazon['summaryLen']) == 0].apply(lambda s : cap_count(s))\n",
    "amazon['capscount_sum'] = amazon['Summary'][(amazon.Summary != 0)].apply(lambda s : cap_count(s))"
   ]
  },
  {
   "cell_type": "code",
   "execution_count": 17,
   "metadata": {
    "collapsed": false
   },
   "outputs": [
    {
     "name": "stderr",
     "output_type": "stream",
     "text": [
      "//anaconda/lib/python3.5/site-packages/ipykernel/__main__.py:2: SettingWithCopyWarning: \n",
      "A value is trying to be set on a copy of a slice from a DataFrame\n",
      "\n",
      "See the caveats in the documentation: http://pandas.pydata.org/pandas-docs/stable/indexing.html#indexing-view-versus-copy\n",
      "  from ipykernel import kernelapp as app\n"
     ]
    },
    {
     "data": {
      "text/plain": [
       "count    19713.000000\n",
       "mean         2.602851\n",
       "std          4.193533\n",
       "min          0.000000\n",
       "25%          1.000000\n",
       "50%          1.000000\n",
       "75%          3.000000\n",
       "max         75.000000\n",
       "Name: capscount_sum, dtype: float64"
      ]
     },
     "execution_count": 17,
     "metadata": {},
     "output_type": "execute_result"
    }
   ],
   "source": [
    "###NOW set all NaN's to 0\n",
    "amazon.loc[:,'capscount_sum'][np.isnan(amazon['capscount_sum'])] = 0\n",
    "amazon.loc[:'capscount_sum'][np.isnan(amazon['capscount_sum'])] = 0\n",
    "amazon['capscount_sum'].describe()"
   ]
  },
  {
   "cell_type": "code",
   "execution_count": 18,
   "metadata": {
    "collapsed": false
   },
   "outputs": [],
   "source": [
    "#FEATURE 10 - Count uppercase letters in th TEXT (REVIEW)\n",
    "amazon['capscount_rev'] = amazon['Text'][(amazon.Summary != 0)].apply(lambda s : cap_count(s))"
   ]
  },
  {
   "cell_type": "code",
   "execution_count": 19,
   "metadata": {
    "collapsed": false
   },
   "outputs": [
    {
     "name": "stderr",
     "output_type": "stream",
     "text": [
      "//anaconda/lib/python3.5/site-packages/ipykernel/__main__.py:2: SettingWithCopyWarning: \n",
      "A value is trying to be set on a copy of a slice from a DataFrame\n",
      "\n",
      "See the caveats in the documentation: http://pandas.pydata.org/pandas-docs/stable/indexing.html#indexing-view-versus-copy\n",
      "  from ipykernel import kernelapp as app\n"
     ]
    },
    {
     "data": {
      "text/plain": [
       "count    19713.000000\n",
       "mean        17.312890\n",
       "std         30.767809\n",
       "min          0.000000\n",
       "25%          5.000000\n",
       "50%         10.000000\n",
       "75%         19.000000\n",
       "max        718.000000\n",
       "Name: capscount_rev, dtype: float64"
      ]
     },
     "execution_count": 19,
     "metadata": {},
     "output_type": "execute_result"
    }
   ],
   "source": [
    "###NOW set all NaN's to 0\n",
    "amazon.loc[:,'capscount_rev'][(np.isnan(amazon['capscount_rev']))] = 0\n",
    "amazon.loc[:'capscount_rev'][(np.isnan(amazon['capscount_rev']))] = 0\n",
    "amazon['capscount_rev'].describe()"
   ]
  },
  {
   "cell_type": "code",
   "execution_count": 20,
   "metadata": {
    "collapsed": false
   },
   "outputs": [],
   "source": [
    "#FEATURE 11 - Score - Profile frequency interaction\n",
    "amazon['score_count'] = amazon['Score']*amazon['profile_freq']\n",
    "\n",
    "#FEATURE 12 - Review length - Profile frequency interaction\n",
    "amazon['revLen_count'] = amazon['reviewLen']*amazon['profile_freq']\n",
    "\n",
    "#FEATURE 13 - Score - Review length interaction\n",
    "amazon['score_revLen'] = amazon['Score']*amazon['reviewLen']\n",
    "\n",
    "#FEATURE 14 - Score - Summary length interaction\n",
    "amazon['score_sumLen'] = amazon['Score']*amazon['summaryLen']\n",
    "\n",
    "#FEATURE 15 - Summary length - Profile frequency interaction\n",
    "amazon['sumLen_count'] = amazon['summaryLen']*amazon['profile_freq']"
   ]
  },
  {
   "cell_type": "code",
   "execution_count": 21,
   "metadata": {
    "collapsed": false
   },
   "outputs": [
    {
     "name": "stdout",
     "output_type": "stream",
     "text": [
      "<class 'pandas.core.frame.DataFrame'>\n"
     ]
    }
   ],
   "source": [
    "##Create a Features Matrix (with only the created features)\n",
    "\n",
    "X_features = amazon[[\n",
    "                     \"reviewLen\", \n",
    "                     \"profile_freq\",\n",
    "                     \"summaryLen\",\n",
    "                     \"profileLen\",\n",
    "                     \"Score\",\n",
    "                     \"Time\",\n",
    "                     \"Id\",\n",
    "                     \"exclam\",\n",
    "                     \"capscount_sum\",\n",
    "                     \"capscount_rev\",\n",
    "                     \"score_count\",\n",
    "                     \"revLen_count\",\n",
    "                     \"score_revLen\",\n",
    "                     \"score_sumLen\",\n",
    "                     \"sumLen_count\"\n",
    "                    ]]\n",
    "print(type(X_features))"
   ]
  },
  {
   "cell_type": "code",
   "execution_count": 22,
   "metadata": {
    "collapsed": false
   },
   "outputs": [
    {
     "name": "stdout",
     "output_type": "stream",
     "text": [
      "(19713, 131087)\n"
     ]
    }
   ],
   "source": [
    "#Convert additional features to csr matrix and \"stack\" with tfidf matrix\n",
    "from scipy.sparse import csr_matrix, hstack\n",
    "X_features_csr = csr_matrix(X_features)\n",
    "X_combined = hstack([X_tfidf, X_features_csr])\n",
    "X_matrix = csr_matrix(X_combined) # convert to sparse matrix\n",
    "print(X_matrix.shape)"
   ]
  },
  {
   "cell_type": "markdown",
   "metadata": {},
   "source": [
    "### 8. Load feature scaling pickle"
   ]
  },
  {
   "cell_type": "code",
   "execution_count": 23,
   "metadata": {
    "collapsed": false
   },
   "outputs": [
    {
     "name": "stdout",
     "output_type": "stream",
     "text": [
      "(19713, 131087)\n"
     ]
    }
   ],
   "source": [
    "# # feature scaling\n",
    "# from sklearn.preprocessing import StandardScaler\n",
    "# sc = StandardScaler(with_mean=False)\n",
    "# X = sc.fit_transform(X_matrix)\n",
    "# print(X.shape)\n",
    "\n",
    "# joblib.dump(sc, 'sc.pkl') # pickle\n",
    "sc = joblib.load('sc.pkl')\n",
    "X = sc.transform(X_matrix)\n",
    "print(X.shape)"
   ]
  },
  {
   "cell_type": "markdown",
   "metadata": {},
   "source": [
    "### 9. Create labels"
   ]
  },
  {
   "cell_type": "code",
   "execution_count": 24,
   "metadata": {
    "collapsed": false
   },
   "outputs": [
    {
     "name": "stdout",
     "output_type": "stream",
     "text": [
      "<class 'numpy.ndarray'>\n"
     ]
    }
   ],
   "source": [
    "y = amazon['new_helpful'].values\n",
    "print(type(y))"
   ]
  },
  {
   "cell_type": "markdown",
   "metadata": {
    "collapsed": true
   },
   "source": [
    "### Model fitting"
   ]
  },
  {
   "cell_type": "code",
   "execution_count": 25,
   "metadata": {
    "collapsed": false
   },
   "outputs": [
    {
     "data": {
      "text/plain": [
       "5652"
      ]
     },
     "execution_count": 25,
     "metadata": {},
     "output_type": "execute_result"
    }
   ],
   "source": [
    "amazon.new_helpful.sum()"
   ]
  },
  {
   "cell_type": "code",
   "execution_count": 26,
   "metadata": {
    "collapsed": false
   },
   "outputs": [
    {
     "name": "stdout",
     "output_type": "stream",
     "text": [
      "{'FP': 2206, 'FN': 2766, 'Accuracy': 0.74778065236138591, 'Neg': 14621, 'TN': 11855, 'Pos': 5092, 'TP': 2886}\n"
     ]
    }
   ],
   "source": [
    "# MODEL: Ridge Regression Classifier\n",
    "# from sklearn import linear_model\n",
    "# rdg = linear_model.RidgeClassifier()\n",
    "# rdg.fit(X, y)\n",
    "# joblib.dump(rdg, 'rdg.pkl') # pickle\n",
    "\n",
    "rdg = joblib.load('rdg.pkl')\n",
    "\n",
    "rdg_performance = BinaryClassificationPerformance(rdg.predict(X), y, 'rdg')\n",
    "rdg_performance.compute_measures()\n",
    "print(rdg_performance.performance_measures)"
   ]
  },
  {
   "cell_type": "code",
   "execution_count": 27,
   "metadata": {
    "collapsed": false
   },
   "outputs": [
    {
     "data": {
      "image/png": "[encoded data removed]",
      "text/plain": [
       "<matplotlib.figure.Figure at 0x117c12a90>"
      ]
     },
     "metadata": {},
     "output_type": "display_data"
    }
   ],
   "source": [
    "fits = [rdg_performance]\n",
    "\n",
    "for fit in fits:\n",
    "    plt.plot(fit.performance_measures['FP'] / fit.performance_measures['Neg'], \n",
    "             fit.performance_measures['TP'] / fit.performance_measures['Pos'], 'ro')\n",
    "    plt.text(fit.performance_measures['FP'] / fit.performance_measures['Neg'], \n",
    "             fit.performance_measures['TP'] / fit.performance_measures['Pos'], fit.desc)\n",
    "plt.axis([0, 1, 0, 1])\n",
    "plt.title('ROC plot: training set')\n",
    "plt.xlabel('False positive rate')\n",
    "plt.ylabel('True positive rate')\n",
    "plt.show()"
   ]
  }
 ],
 "metadata": {
  "anaconda-cloud": {},
  "kernelspec": {
   "display_name": "Python [conda root]",
   "language": "python",
   "name": "conda-root-py"
  },
  "language_info": {
   "codemirror_mode": {
    "name": "ipython",
    "version": 3
   },
   "file_extension": ".py",
   "mimetype": "text/x-python",
   "name": "python",
   "nbconvert_exporter": "python",
   "pygments_lexer": "ipython3",
   "version": "3.5.2"
  }
 },
 "nbformat": 4,
 "nbformat_minor": 1
}
